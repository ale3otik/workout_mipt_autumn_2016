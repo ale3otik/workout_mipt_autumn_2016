{
 "cells": [
  {
   "cell_type": "code",
   "execution_count": 1,
   "metadata": {
    "collapsed": true
   },
   "outputs": [],
   "source": [
    "import numpy as np\n",
    "import matplotlib.pyplot as plt\n",
    "import scipy.stats as sps\n",
    "from mpl_toolkits.mplot3d import Axes3D\n",
    "%matplotlib inline"
   ]
  },
  {
   "cell_type": "markdown",
   "metadata": {},
   "source": [
    "Возьмем значения $a$ = [2,7,5] \n",
    "\n",
    "$m = 200$\n",
    "\n",
    "$sigma = 0.2$ \n"
   ]
  },
  {
   "cell_type": "code",
   "execution_count": 25,
   "metadata": {
    "collapsed": false
   },
   "outputs": [
    {
     "name": "stdout",
     "output_type": "stream",
     "text": [
      "len T = 200\n"
     ]
    }
   ],
   "source": [
    "m = 200 \n",
    "T = np.arange(0,(m-1)*10/m+1e-2,10/m)\n",
    "a_true = np.array([2,7,5])\n",
    "print('len T = ' + str(len(T)))"
   ]
  },
  {
   "cell_type": "code",
   "execution_count": 29,
   "metadata": {
    "collapsed": false
   },
   "outputs": [],
   "source": [
    "def build(a,sigma):\n",
    "    y_true = a[2]*np.sin(T) + a[1]*T + a[0]\n",
    "    y_obs = y_true + sps.norm.rvs(size=len(y_true),loc=0,scale=sigma)\n",
    "    delta_i = y_obs - y_true\n",
    "    return y_true,y_obs,delta_i\n"
   ]
  },
  {
   "cell_type": "code",
   "execution_count": 31,
   "metadata": {
    "collapsed": false
   },
   "outputs": [
    {
     "data": {
      "text/plain": [
       "<matplotlib.collections.PathCollection at 0x111416be0>"
      ]
     },
     "execution_count": 31,
     "metadata": {},
     "output_type": "execute_result"
    },
    {
     "data": {
      "image/png": "[encoded data removed]",
      "text/plain": [
       "<matplotlib.figure.Figure at 0x1112e0780>"
      ]
     },
     "metadata": {},
     "output_type": "display_data"
    }
   ],
   "source": [
    "sigma = 0.2\n",
    "y_true,y_obs,delta_i = build(a_true,sigma)\n",
    "plt.title('noise distribution')\n",
    "plt.scatter(delta_i, np.ones(len(y_true)) ,  alpha=0.1)"
   ]
  },
  {
   "cell_type": "markdown",
   "metadata": {},
   "source": [
    "## 1) МНК\n",
    "$y = a_2 \\sin(t) + a_1 t + a_0$, нужно найти $a$, минимизировав $\\left|Ax - y \\right|_2$\n",
    "$$a = [a_0,a_1,a_2], \\quad y = [y^{true}_1,y^{true}_2,\\dots,y^{true}_m], \\quad A = \\left( \\begin{matrix} 1 & t_1 & sin t_1 \\\\ 1 & t_2 & sin t_2\\\\ \\dots \\\\ 1 & t_m & sin t_m \\end{matrix}\\right)$$\n",
    "\n",
    "Решением будет являться $a = Zb$ , где $Z = (A^T A)^{-1}A^T$"
   ]
  },
  {
   "cell_type": "code",
   "execution_count": 44,
   "metadata": {
    "collapsed": false
   },
   "outputs": [],
   "source": [
    "def OLS(y,T) :\n",
    "    A = np.matrix([[1,t,np.sin(t)] for t in T])\n",
    "    a = (A.T*A).I * A.T * np.matrix(y).T\n",
    "    return np.array(a.T)[0]"
   ]
  },
  {
   "cell_type": "code",
   "execution_count": 43,
   "metadata": {
    "collapsed": false
   },
   "outputs": [
    {
     "data": {
      "text/plain": [
       "array([ 2.01021138,  6.99990707,  5.01942732])"
      ]
     },
     "execution_count": 43,
     "metadata": {},
     "output_type": "execute_result"
    }
   ],
   "source": [
    "a = OLS(y_obs,T)\n",
    "a"
   ]
  },
  {
   "cell_type": "markdown",
   "metadata": {},
   "source": [
    "## 2) \n"
   ]
  },
  {
   "cell_type": "code",
   "execution_count": null,
   "metadata": {
    "collapsed": true
   },
   "outputs": [],
   "source": []
  }
 ],
 "metadata": {
  "kernelspec": {
   "display_name": "Python 3",
   "language": "python",
   "name": "python3"
  },
  "language_info": {
   "codemirror_mode": {
    "name": "ipython",
    "version": 3
   },
   "file_extension": ".py",
   "mimetype": "text/x-python",
   "name": "python",
   "nbconvert_exporter": "python",
   "pygments_lexer": "ipython3",
   "version": "3.5.1"
  }
 },
 "nbformat": 4,
 "nbformat_minor": 0
}
